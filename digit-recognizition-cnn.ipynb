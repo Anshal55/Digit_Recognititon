{
 "cells": [
  {
   "cell_type": "code",
   "execution_count": 1,
   "id": "beginning-hanging",
   "metadata": {
    "_cell_guid": "b1076dfc-b9ad-4769-8c92-a6c4dae69d19",
    "_uuid": "8f2839f25d086af736a60e9eeb907d3b93b6e0e5",
    "execution": {
     "iopub.execute_input": "2021-05-22T10:09:15.122044Z",
     "iopub.status.busy": "2021-05-22T10:09:15.121198Z",
     "iopub.status.idle": "2021-05-22T10:09:15.126728Z",
     "shell.execute_reply": "2021-05-22T10:09:15.126208Z",
     "shell.execute_reply.started": "2021-05-22T08:43:14.948755Z"
    },
    "papermill": {
     "duration": 0.042563,
     "end_time": "2021-05-22T10:09:15.126862",
     "exception": false,
     "start_time": "2021-05-22T10:09:15.084299",
     "status": "completed"
    },
    "tags": []
   },
   "outputs": [
    {
     "name": "stdout",
     "output_type": "stream",
     "text": [
      "/kaggle/input/digit-recognizer/sample_submission.csv\n",
      "/kaggle/input/digit-recognizer/train.csv\n",
      "/kaggle/input/digit-recognizer/test.csv\n"
     ]
    }
   ],
   "source": [
    "# This Python 3 environment comes with many helpful analytics libraries installed\n",
    "# It is defined by the kaggle/python Docker image: https://github.com/kaggle/docker-python\n",
    "# For example, here's several helpful packages to load\n",
    "\n",
    "import numpy as np # linear algebra\n",
    "import pandas as pd # data processing, CSV file I/O (e.g. pd.read_csv)\n",
    "\n",
    "# Input data files are available in the read-only \"../input/\" directory\n",
    "# For example, running this (by clicking run or pressing Shift+Enter) will list all files under the input directory\n",
    "\n",
    "import os\n",
    "for dirname, _, filenames in os.walk('/kaggle/input'):\n",
    "    for filename in filenames:\n",
    "        print(os.path.join(dirname, filename))\n",
    "\n",
    "# You can write up to 20GB to the current directory (/kaggle/working/) that gets preserved as output when you create a version using \"Save & Run All\" \n",
    "# You can also write temporary files to /kaggle/temp/, but they won't be saved outside of the current session"
   ]
  },
  {
   "cell_type": "code",
   "execution_count": 2,
   "id": "saving-movement",
   "metadata": {
    "execution": {
     "iopub.execute_input": "2021-05-22T10:09:15.185616Z",
     "iopub.status.busy": "2021-05-22T10:09:15.185010Z",
     "iopub.status.idle": "2021-05-22T10:09:20.006157Z",
     "shell.execute_reply": "2021-05-22T10:09:20.005352Z",
     "shell.execute_reply.started": "2021-05-22T08:43:14.960224Z"
    },
    "papermill": {
     "duration": 4.85273,
     "end_time": "2021-05-22T10:09:20.006287",
     "exception": false,
     "start_time": "2021-05-22T10:09:15.153557",
     "status": "completed"
    },
    "tags": []
   },
   "outputs": [],
   "source": [
    "#libraries\n",
    "import numpy as np\n",
    "import pandas as pd\n",
    "\n",
    "import matplotlib.pyplot as plt\n",
    "\n",
    "import tensorflow as tf\n",
    "from tensorflow import keras\n",
    "from keras import layers,models"
   ]
  },
  {
   "cell_type": "code",
   "execution_count": 3,
   "id": "waiting-conservative",
   "metadata": {
    "execution": {
     "iopub.execute_input": "2021-05-22T10:09:20.065281Z",
     "iopub.status.busy": "2021-05-22T10:09:20.064799Z",
     "iopub.status.idle": "2021-05-22T10:09:25.379896Z",
     "shell.execute_reply": "2021-05-22T10:09:25.378866Z",
     "shell.execute_reply.started": "2021-05-22T08:43:17.020083Z"
    },
    "papermill": {
     "duration": 5.346524,
     "end_time": "2021-05-22T10:09:25.380024",
     "exception": false,
     "start_time": "2021-05-22T10:09:20.033500",
     "status": "completed"
    },
    "tags": []
   },
   "outputs": [],
   "source": [
    "df_train = pd.read_csv('/kaggle/input/digit-recognizer/train.csv')\n",
    "df_test = pd.read_csv('/kaggle/input/digit-recognizer/test.csv')"
   ]
  },
  {
   "cell_type": "code",
   "execution_count": 4,
   "id": "incomplete-nursery",
   "metadata": {
    "execution": {
     "iopub.execute_input": "2021-05-22T10:09:25.440385Z",
     "iopub.status.busy": "2021-05-22T10:09:25.439774Z",
     "iopub.status.idle": "2021-05-22T10:09:25.443200Z",
     "shell.execute_reply": "2021-05-22T10:09:25.443645Z",
     "shell.execute_reply.started": "2021-05-22T08:43:21.655435Z"
    },
    "papermill": {
     "duration": 0.036856,
     "end_time": "2021-05-22T10:09:25.443775",
     "exception": false,
     "start_time": "2021-05-22T10:09:25.406919",
     "status": "completed"
    },
    "tags": []
   },
   "outputs": [
    {
     "data": {
      "text/plain": [
       "(42000, 785)"
      ]
     },
     "execution_count": 4,
     "metadata": {},
     "output_type": "execute_result"
    }
   ],
   "source": [
    "df_train.shape"
   ]
  },
  {
   "cell_type": "code",
   "execution_count": 5,
   "id": "demographic-quebec",
   "metadata": {
    "execution": {
     "iopub.execute_input": "2021-05-22T10:09:25.505032Z",
     "iopub.status.busy": "2021-05-22T10:09:25.504417Z",
     "iopub.status.idle": "2021-05-22T10:09:25.521836Z",
     "shell.execute_reply": "2021-05-22T10:09:25.521406Z",
     "shell.execute_reply.started": "2021-05-22T08:43:21.667105Z"
    },
    "papermill": {
     "duration": 0.051686,
     "end_time": "2021-05-22T10:09:25.521936",
     "exception": false,
     "start_time": "2021-05-22T10:09:25.470250",
     "status": "completed"
    },
    "tags": []
   },
   "outputs": [
    {
     "data": {
      "text/html": [
       "<div>\n",
       "<style scoped>\n",
       "    .dataframe tbody tr th:only-of-type {\n",
       "        vertical-align: middle;\n",
       "    }\n",
       "\n",
       "    .dataframe tbody tr th {\n",
       "        vertical-align: top;\n",
       "    }\n",
       "\n",
       "    .dataframe thead th {\n",
       "        text-align: right;\n",
       "    }\n",
       "</style>\n",
       "<table border=\"1\" class=\"dataframe\">\n",
       "  <thead>\n",
       "    <tr style=\"text-align: right;\">\n",
       "      <th></th>\n",
       "      <th>pixel0</th>\n",
       "      <th>pixel1</th>\n",
       "      <th>pixel2</th>\n",
       "      <th>pixel3</th>\n",
       "      <th>pixel4</th>\n",
       "      <th>pixel5</th>\n",
       "      <th>pixel6</th>\n",
       "      <th>pixel7</th>\n",
       "      <th>pixel8</th>\n",
       "      <th>pixel9</th>\n",
       "      <th>...</th>\n",
       "      <th>pixel774</th>\n",
       "      <th>pixel775</th>\n",
       "      <th>pixel776</th>\n",
       "      <th>pixel777</th>\n",
       "      <th>pixel778</th>\n",
       "      <th>pixel779</th>\n",
       "      <th>pixel780</th>\n",
       "      <th>pixel781</th>\n",
       "      <th>pixel782</th>\n",
       "      <th>pixel783</th>\n",
       "    </tr>\n",
       "  </thead>\n",
       "  <tbody>\n",
       "    <tr>\n",
       "      <th>0</th>\n",
       "      <td>0</td>\n",
       "      <td>0</td>\n",
       "      <td>0</td>\n",
       "      <td>0</td>\n",
       "      <td>0</td>\n",
       "      <td>0</td>\n",
       "      <td>0</td>\n",
       "      <td>0</td>\n",
       "      <td>0</td>\n",
       "      <td>0</td>\n",
       "      <td>...</td>\n",
       "      <td>0</td>\n",
       "      <td>0</td>\n",
       "      <td>0</td>\n",
       "      <td>0</td>\n",
       "      <td>0</td>\n",
       "      <td>0</td>\n",
       "      <td>0</td>\n",
       "      <td>0</td>\n",
       "      <td>0</td>\n",
       "      <td>0</td>\n",
       "    </tr>\n",
       "    <tr>\n",
       "      <th>1</th>\n",
       "      <td>0</td>\n",
       "      <td>0</td>\n",
       "      <td>0</td>\n",
       "      <td>0</td>\n",
       "      <td>0</td>\n",
       "      <td>0</td>\n",
       "      <td>0</td>\n",
       "      <td>0</td>\n",
       "      <td>0</td>\n",
       "      <td>0</td>\n",
       "      <td>...</td>\n",
       "      <td>0</td>\n",
       "      <td>0</td>\n",
       "      <td>0</td>\n",
       "      <td>0</td>\n",
       "      <td>0</td>\n",
       "      <td>0</td>\n",
       "      <td>0</td>\n",
       "      <td>0</td>\n",
       "      <td>0</td>\n",
       "      <td>0</td>\n",
       "    </tr>\n",
       "    <tr>\n",
       "      <th>2</th>\n",
       "      <td>0</td>\n",
       "      <td>0</td>\n",
       "      <td>0</td>\n",
       "      <td>0</td>\n",
       "      <td>0</td>\n",
       "      <td>0</td>\n",
       "      <td>0</td>\n",
       "      <td>0</td>\n",
       "      <td>0</td>\n",
       "      <td>0</td>\n",
       "      <td>...</td>\n",
       "      <td>0</td>\n",
       "      <td>0</td>\n",
       "      <td>0</td>\n",
       "      <td>0</td>\n",
       "      <td>0</td>\n",
       "      <td>0</td>\n",
       "      <td>0</td>\n",
       "      <td>0</td>\n",
       "      <td>0</td>\n",
       "      <td>0</td>\n",
       "    </tr>\n",
       "    <tr>\n",
       "      <th>3</th>\n",
       "      <td>0</td>\n",
       "      <td>0</td>\n",
       "      <td>0</td>\n",
       "      <td>0</td>\n",
       "      <td>0</td>\n",
       "      <td>0</td>\n",
       "      <td>0</td>\n",
       "      <td>0</td>\n",
       "      <td>0</td>\n",
       "      <td>0</td>\n",
       "      <td>...</td>\n",
       "      <td>0</td>\n",
       "      <td>0</td>\n",
       "      <td>0</td>\n",
       "      <td>0</td>\n",
       "      <td>0</td>\n",
       "      <td>0</td>\n",
       "      <td>0</td>\n",
       "      <td>0</td>\n",
       "      <td>0</td>\n",
       "      <td>0</td>\n",
       "    </tr>\n",
       "    <tr>\n",
       "      <th>4</th>\n",
       "      <td>0</td>\n",
       "      <td>0</td>\n",
       "      <td>0</td>\n",
       "      <td>0</td>\n",
       "      <td>0</td>\n",
       "      <td>0</td>\n",
       "      <td>0</td>\n",
       "      <td>0</td>\n",
       "      <td>0</td>\n",
       "      <td>0</td>\n",
       "      <td>...</td>\n",
       "      <td>0</td>\n",
       "      <td>0</td>\n",
       "      <td>0</td>\n",
       "      <td>0</td>\n",
       "      <td>0</td>\n",
       "      <td>0</td>\n",
       "      <td>0</td>\n",
       "      <td>0</td>\n",
       "      <td>0</td>\n",
       "      <td>0</td>\n",
       "    </tr>\n",
       "  </tbody>\n",
       "</table>\n",
       "<p>5 rows × 784 columns</p>\n",
       "</div>"
      ],
      "text/plain": [
       "   pixel0  pixel1  pixel2  pixel3  pixel4  pixel5  pixel6  pixel7  pixel8  \\\n",
       "0       0       0       0       0       0       0       0       0       0   \n",
       "1       0       0       0       0       0       0       0       0       0   \n",
       "2       0       0       0       0       0       0       0       0       0   \n",
       "3       0       0       0       0       0       0       0       0       0   \n",
       "4       0       0       0       0       0       0       0       0       0   \n",
       "\n",
       "   pixel9  ...  pixel774  pixel775  pixel776  pixel777  pixel778  pixel779  \\\n",
       "0       0  ...         0         0         0         0         0         0   \n",
       "1       0  ...         0         0         0         0         0         0   \n",
       "2       0  ...         0         0         0         0         0         0   \n",
       "3       0  ...         0         0         0         0         0         0   \n",
       "4       0  ...         0         0         0         0         0         0   \n",
       "\n",
       "   pixel780  pixel781  pixel782  pixel783  \n",
       "0         0         0         0         0  \n",
       "1         0         0         0         0  \n",
       "2         0         0         0         0  \n",
       "3         0         0         0         0  \n",
       "4         0         0         0         0  \n",
       "\n",
       "[5 rows x 784 columns]"
      ]
     },
     "execution_count": 5,
     "metadata": {},
     "output_type": "execute_result"
    }
   ],
   "source": [
    "df_test.head()"
   ]
  },
  {
   "cell_type": "code",
   "execution_count": 6,
   "id": "coordinated-jefferson",
   "metadata": {
    "execution": {
     "iopub.execute_input": "2021-05-22T10:09:25.662891Z",
     "iopub.status.busy": "2021-05-22T10:09:25.661548Z",
     "iopub.status.idle": "2021-05-22T10:09:25.664193Z",
     "shell.execute_reply": "2021-05-22T10:09:25.664636Z",
     "shell.execute_reply.started": "2021-05-22T08:43:21.705693Z"
    },
    "papermill": {
     "duration": 0.114207,
     "end_time": "2021-05-22T10:09:25.664786",
     "exception": false,
     "start_time": "2021-05-22T10:09:25.550579",
     "status": "completed"
    },
    "tags": []
   },
   "outputs": [],
   "source": [
    "labels = df_train['label']\n",
    "data = df_train.drop(columns=['label'])"
   ]
  },
  {
   "cell_type": "code",
   "execution_count": 7,
   "id": "vital-guest",
   "metadata": {
    "execution": {
     "iopub.execute_input": "2021-05-22T10:09:25.725298Z",
     "iopub.status.busy": "2021-05-22T10:09:25.724651Z",
     "iopub.status.idle": "2021-05-22T10:09:25.728186Z",
     "shell.execute_reply": "2021-05-22T10:09:25.728757Z",
     "shell.execute_reply.started": "2021-05-22T08:43:21.799056Z"
    },
    "papermill": {
     "duration": 0.035891,
     "end_time": "2021-05-22T10:09:25.728918",
     "exception": false,
     "start_time": "2021-05-22T10:09:25.693027",
     "status": "completed"
    },
    "tags": []
   },
   "outputs": [
    {
     "name": "stdout",
     "output_type": "stream",
     "text": [
      "(42000, 784) (42000,) (28000, 784)\n"
     ]
    }
   ],
   "source": [
    "print(data.shape,labels.shape,df_test.shape)"
   ]
  },
  {
   "cell_type": "code",
   "execution_count": 8,
   "id": "opening-cincinnati",
   "metadata": {
    "execution": {
     "iopub.execute_input": "2021-05-22T10:09:25.788639Z",
     "iopub.status.busy": "2021-05-22T10:09:25.788033Z",
     "iopub.status.idle": "2021-05-22T10:09:25.791230Z",
     "shell.execute_reply": "2021-05-22T10:09:25.791602Z",
     "shell.execute_reply.started": "2021-05-22T08:47:37.556099Z"
    },
    "papermill": {
     "duration": 0.034435,
     "end_time": "2021-05-22T10:09:25.791724",
     "exception": false,
     "start_time": "2021-05-22T10:09:25.757289",
     "status": "completed"
    },
    "tags": []
   },
   "outputs": [],
   "source": [
    "#reshaping the train and test data\n",
    "data = data.values.reshape(-1,28,28,1)\n",
    "df_test = df_test.values.reshape(-1,28,28,1)"
   ]
  },
  {
   "cell_type": "code",
   "execution_count": 9,
   "id": "injured-depression",
   "metadata": {
    "execution": {
     "iopub.execute_input": "2021-05-22T10:09:25.851964Z",
     "iopub.status.busy": "2021-05-22T10:09:25.850746Z",
     "iopub.status.idle": "2021-05-22T10:09:25.854030Z",
     "shell.execute_reply": "2021-05-22T10:09:25.854666Z",
     "shell.execute_reply.started": "2021-05-22T08:48:17.903318Z"
    },
    "papermill": {
     "duration": 0.035762,
     "end_time": "2021-05-22T10:09:25.854825",
     "exception": false,
     "start_time": "2021-05-22T10:09:25.819063",
     "status": "completed"
    },
    "tags": []
   },
   "outputs": [
    {
     "name": "stdout",
     "output_type": "stream",
     "text": [
      "(42000, 28, 28, 1) (28000, 28, 28, 1)\n"
     ]
    }
   ],
   "source": [
    "print(data.shape,df_test.shape)"
   ]
  },
  {
   "cell_type": "code",
   "execution_count": 10,
   "id": "mighty-theorem",
   "metadata": {
    "execution": {
     "iopub.execute_input": "2021-05-22T10:09:25.914531Z",
     "iopub.status.busy": "2021-05-22T10:09:25.913669Z",
     "iopub.status.idle": "2021-05-22T10:09:26.081177Z",
     "shell.execute_reply": "2021-05-22T10:09:26.081597Z",
     "shell.execute_reply.started": "2021-05-22T08:48:51.481562Z"
    },
    "papermill": {
     "duration": 0.198612,
     "end_time": "2021-05-22T10:09:26.081767",
     "exception": false,
     "start_time": "2021-05-22T10:09:25.883155",
     "status": "completed"
    },
    "tags": []
   },
   "outputs": [],
   "source": [
    "#normalizing the data\n",
    "data = data/255.0\n",
    "df_test = df_test/255.0"
   ]
  },
  {
   "cell_type": "code",
   "execution_count": 11,
   "id": "spread-killing",
   "metadata": {
    "execution": {
     "iopub.execute_input": "2021-05-22T10:09:26.156134Z",
     "iopub.status.busy": "2021-05-22T10:09:26.155279Z",
     "iopub.status.idle": "2021-05-22T10:09:27.241033Z",
     "shell.execute_reply": "2021-05-22T10:09:27.241480Z",
     "shell.execute_reply.started": "2021-05-22T08:51:24.375182Z"
    },
    "papermill": {
     "duration": 1.13159,
     "end_time": "2021-05-22T10:09:27.241631",
     "exception": false,
     "start_time": "2021-05-22T10:09:26.110041",
     "status": "completed"
    },
    "tags": []
   },
   "outputs": [
    {
     "data": {
      "image/png": "[encoded data removed]",
      "text/plain": [
       "<Figure size 720x720 with 25 Axes>"
      ]
     },
     "metadata": {},
     "output_type": "display_data"
    }
   ],
   "source": [
    "#visualize some of data\n",
    "\n",
    "plt.figure(figsize=(10,10))\n",
    "for i in range(25):\n",
    "    plt.subplot(5,5,i+1)\n",
    "    plt.xticks([])\n",
    "    plt.yticks([])\n",
    "    plt.imshow(data[i])\n",
    "    plt.xlabel(\"NUmber is {}\".format(labels[i]))"
   ]
  },
  {
   "cell_type": "code",
   "execution_count": 12,
   "id": "geological-picnic",
   "metadata": {
    "execution": {
     "iopub.execute_input": "2021-05-22T10:09:27.304302Z",
     "iopub.status.busy": "2021-05-22T10:09:27.303495Z",
     "iopub.status.idle": "2021-05-22T10:09:27.437502Z",
     "shell.execute_reply": "2021-05-22T10:09:27.437074Z",
     "shell.execute_reply.started": "2021-05-22T08:56:23.861775Z"
    },
    "papermill": {
     "duration": 0.166673,
     "end_time": "2021-05-22T10:09:27.437617",
     "exception": false,
     "start_time": "2021-05-22T10:09:27.270944",
     "status": "completed"
    },
    "tags": []
   },
   "outputs": [
    {
     "data": {
      "image/png": "[encoded data removed]",
      "text/plain": [
       "<Figure size 432x288 with 1 Axes>"
      ]
     },
     "metadata": {
      "needs_background": "light"
     },
     "output_type": "display_data"
    }
   ],
   "source": [
    "labels.value_counts().plot(kind='bar');"
   ]
  },
  {
   "cell_type": "code",
   "execution_count": 13,
   "id": "pursuant-anaheim",
   "metadata": {
    "execution": {
     "iopub.execute_input": "2021-05-22T10:09:27.500480Z",
     "iopub.status.busy": "2021-05-22T10:09:27.499841Z",
     "iopub.status.idle": "2021-05-22T10:09:28.387700Z",
     "shell.execute_reply": "2021-05-22T10:09:28.387192Z",
     "shell.execute_reply.started": "2021-05-22T09:02:28.312402Z"
    },
    "papermill": {
     "duration": 0.920891,
     "end_time": "2021-05-22T10:09:28.387838",
     "exception": false,
     "start_time": "2021-05-22T10:09:27.466947",
     "status": "completed"
    },
    "tags": []
   },
   "outputs": [],
   "source": [
    "#train_test_split\n",
    "from sklearn.model_selection import train_test_split\n",
    "x_train,x_test,y_train,y_test = train_test_split(data,labels,random_state=42,test_size=0.2)"
   ]
  },
  {
   "cell_type": "code",
   "execution_count": 14,
   "id": "lonely-partnership",
   "metadata": {
    "execution": {
     "iopub.execute_input": "2021-05-22T10:09:28.451227Z",
     "iopub.status.busy": "2021-05-22T10:09:28.450716Z",
     "iopub.status.idle": "2021-05-22T10:09:28.455754Z",
     "shell.execute_reply": "2021-05-22T10:09:28.456272Z",
     "shell.execute_reply.started": "2021-05-22T09:02:48.321323Z"
    },
    "papermill": {
     "duration": 0.038649,
     "end_time": "2021-05-22T10:09:28.456433",
     "exception": false,
     "start_time": "2021-05-22T10:09:28.417784",
     "status": "completed"
    },
    "tags": []
   },
   "outputs": [
    {
     "name": "stdout",
     "output_type": "stream",
     "text": [
      "(33600, 28, 28, 1) (33600,)\n"
     ]
    }
   ],
   "source": [
    "print(x_train.shape,y_train.shape)"
   ]
  },
  {
   "cell_type": "code",
   "execution_count": 15,
   "id": "coastal-recording",
   "metadata": {
    "execution": {
     "iopub.execute_input": "2021-05-22T10:09:28.520273Z",
     "iopub.status.busy": "2021-05-22T10:09:28.519754Z",
     "iopub.status.idle": "2021-05-22T10:09:28.522817Z",
     "shell.execute_reply": "2021-05-22T10:09:28.523199Z",
     "shell.execute_reply.started": "2021-05-22T09:03:01.301665Z"
    },
    "papermill": {
     "duration": 0.037324,
     "end_time": "2021-05-22T10:09:28.523317",
     "exception": false,
     "start_time": "2021-05-22T10:09:28.485993",
     "status": "completed"
    },
    "tags": []
   },
   "outputs": [
    {
     "data": {
      "text/plain": [
       "dtype('int64')"
      ]
     },
     "execution_count": 15,
     "metadata": {},
     "output_type": "execute_result"
    }
   ],
   "source": [
    "y_train.dtype"
   ]
  },
  {
   "cell_type": "markdown",
   "id": "interior-values",
   "metadata": {
    "papermill": {
     "duration": 0.029519,
     "end_time": "2021-05-22T10:09:28.582329",
     "exception": false,
     "start_time": "2021-05-22T10:09:28.552810",
     "status": "completed"
    },
    "tags": []
   },
   "source": [
    "## Model"
   ]
  },
  {
   "cell_type": "code",
   "execution_count": 16,
   "id": "opening-voice",
   "metadata": {
    "execution": {
     "iopub.execute_input": "2021-05-22T10:09:28.648392Z",
     "iopub.status.busy": "2021-05-22T10:09:28.647900Z",
     "iopub.status.idle": "2021-05-22T10:09:30.703190Z",
     "shell.execute_reply": "2021-05-22T10:09:30.702759Z",
     "shell.execute_reply.started": "2021-05-22T09:08:09.953696Z"
    },
    "papermill": {
     "duration": 2.09126,
     "end_time": "2021-05-22T10:09:30.703311",
     "exception": false,
     "start_time": "2021-05-22T10:09:28.612051",
     "status": "completed"
    },
    "tags": []
   },
   "outputs": [],
   "source": [
    "model = models.Sequential([\n",
    "    #cnn \n",
    "    layers.Conv2D(32,(3,3),activation='relu',input_shape=(28,28,1)),\n",
    "    layers.MaxPooling2D((2,2)),\n",
    "    \n",
    "    layers.Conv2D(64,(3,3),activation='relu'),\n",
    "    layers.MaxPooling2D((2,2)),\n",
    "    \n",
    "    layers.Conv2D(128,(3,3),activation='relu'),\n",
    "    layers.MaxPooling2D((2,2)),\n",
    "    \n",
    "    #dense layers\n",
    "    layers.Flatten(),\n",
    "    \n",
    "    layers.Dense(256,activation='relu'),\n",
    "    layers.Dropout(0.5),\n",
    "    \n",
    "    layers.Dense(128,activation='relu'),\n",
    "    layers.Dropout(0.5),\n",
    "    \n",
    "    layers.Dense(64,activation='relu'),\n",
    "    layers.Dropout(0.5),\n",
    "    \n",
    "    layers.Dense(10,activation='softmax')\n",
    "])"
   ]
  },
  {
   "cell_type": "code",
   "execution_count": 17,
   "id": "lasting-humanity",
   "metadata": {
    "execution": {
     "iopub.execute_input": "2021-05-22T10:09:30.776276Z",
     "iopub.status.busy": "2021-05-22T10:09:30.775430Z",
     "iopub.status.idle": "2021-05-22T10:09:30.782098Z",
     "shell.execute_reply": "2021-05-22T10:09:30.782466Z",
     "shell.execute_reply.started": "2021-05-22T09:08:10.273065Z"
    },
    "papermill": {
     "duration": 0.047185,
     "end_time": "2021-05-22T10:09:30.782600",
     "exception": false,
     "start_time": "2021-05-22T10:09:30.735415",
     "status": "completed"
    },
    "tags": []
   },
   "outputs": [],
   "source": [
    "#complie the model\n",
    "model.compile(loss='sparse_categorical_crossentropy',optimizer='adam',metrics=['accuracy'])"
   ]
  },
  {
   "cell_type": "code",
   "execution_count": 18,
   "id": "general-optimization",
   "metadata": {
    "execution": {
     "iopub.execute_input": "2021-05-22T10:09:30.850318Z",
     "iopub.status.busy": "2021-05-22T10:09:30.848889Z",
     "iopub.status.idle": "2021-05-22T10:09:30.855356Z",
     "shell.execute_reply": "2021-05-22T10:09:30.855793Z",
     "shell.execute_reply.started": "2021-05-22T09:08:10.762422Z"
    },
    "papermill": {
     "duration": 0.043518,
     "end_time": "2021-05-22T10:09:30.855914",
     "exception": false,
     "start_time": "2021-05-22T10:09:30.812396",
     "status": "completed"
    },
    "tags": []
   },
   "outputs": [
    {
     "name": "stdout",
     "output_type": "stream",
     "text": [
      "Model: \"sequential\"\n",
      "_________________________________________________________________\n",
      "Layer (type)                 Output Shape              Param #   \n",
      "=================================================================\n",
      "conv2d (Conv2D)              (None, 26, 26, 32)        320       \n",
      "_________________________________________________________________\n",
      "max_pooling2d (MaxPooling2D) (None, 13, 13, 32)        0         \n",
      "_________________________________________________________________\n",
      "conv2d_1 (Conv2D)            (None, 11, 11, 64)        18496     \n",
      "_________________________________________________________________\n",
      "max_pooling2d_1 (MaxPooling2 (None, 5, 5, 64)          0         \n",
      "_________________________________________________________________\n",
      "conv2d_2 (Conv2D)            (None, 3, 3, 128)         73856     \n",
      "_________________________________________________________________\n",
      "max_pooling2d_2 (MaxPooling2 (None, 1, 1, 128)         0         \n",
      "_________________________________________________________________\n",
      "flatten (Flatten)            (None, 128)               0         \n",
      "_________________________________________________________________\n",
      "dense (Dense)                (None, 256)               33024     \n",
      "_________________________________________________________________\n",
      "dropout (Dropout)            (None, 256)               0         \n",
      "_________________________________________________________________\n",
      "dense_1 (Dense)              (None, 128)               32896     \n",
      "_________________________________________________________________\n",
      "dropout_1 (Dropout)          (None, 128)               0         \n",
      "_________________________________________________________________\n",
      "dense_2 (Dense)              (None, 64)                8256      \n",
      "_________________________________________________________________\n",
      "dropout_2 (Dropout)          (None, 64)                0         \n",
      "_________________________________________________________________\n",
      "dense_3 (Dense)              (None, 10)                650       \n",
      "=================================================================\n",
      "Total params: 167,498\n",
      "Trainable params: 167,498\n",
      "Non-trainable params: 0\n",
      "_________________________________________________________________\n"
     ]
    }
   ],
   "source": [
    "model.summary()"
   ]
  },
  {
   "cell_type": "code",
   "execution_count": 19,
   "id": "spatial-correction",
   "metadata": {
    "execution": {
     "iopub.execute_input": "2021-05-22T10:09:30.920864Z",
     "iopub.status.busy": "2021-05-22T10:09:30.919358Z",
     "iopub.status.idle": "2021-05-22T10:09:30.921689Z",
     "shell.execute_reply": "2021-05-22T10:09:30.922089Z",
     "shell.execute_reply.started": "2021-05-22T09:08:16.343991Z"
    },
    "papermill": {
     "duration": 0.036623,
     "end_time": "2021-05-22T10:09:30.922212",
     "exception": false,
     "start_time": "2021-05-22T10:09:30.885589",
     "status": "completed"
    },
    "tags": []
   },
   "outputs": [],
   "source": [
    "#callback / early stopping\n",
    "callback = tf.keras.callbacks.EarlyStopping(monitor='val_accuracy',patience=3)"
   ]
  },
  {
   "cell_type": "code",
   "execution_count": 20,
   "id": "median-laundry",
   "metadata": {
    "execution": {
     "iopub.execute_input": "2021-05-22T10:09:30.986852Z",
     "iopub.status.busy": "2021-05-22T10:09:30.986207Z",
     "iopub.status.idle": "2021-05-22T10:10:25.841098Z",
     "shell.execute_reply": "2021-05-22T10:10:25.840470Z",
     "shell.execute_reply.started": "2021-05-22T09:08:18.502426Z"
    },
    "papermill": {
     "duration": 54.888952,
     "end_time": "2021-05-22T10:10:25.841244",
     "exception": false,
     "start_time": "2021-05-22T10:09:30.952292",
     "status": "completed"
    },
    "tags": []
   },
   "outputs": [
    {
     "name": "stdout",
     "output_type": "stream",
     "text": [
      "Epoch 1/15\n",
      "945/945 [==============================] - 8s 4ms/step - loss: 1.3400 - accuracy: 0.5199 - val_loss: 0.1475 - val_accuracy: 0.9607\n",
      "Epoch 2/15\n",
      "945/945 [==============================] - 4s 4ms/step - loss: 0.2120 - accuracy: 0.9478 - val_loss: 0.1203 - val_accuracy: 0.9679\n",
      "Epoch 3/15\n",
      "945/945 [==============================] - 3s 4ms/step - loss: 0.1448 - accuracy: 0.9669 - val_loss: 0.0924 - val_accuracy: 0.9744\n",
      "Epoch 4/15\n",
      "945/945 [==============================] - 4s 4ms/step - loss: 0.1100 - accuracy: 0.9743 - val_loss: 0.0986 - val_accuracy: 0.9789\n",
      "Epoch 5/15\n",
      "945/945 [==============================] - 4s 4ms/step - loss: 0.0958 - accuracy: 0.9764 - val_loss: 0.1034 - val_accuracy: 0.9795\n",
      "Epoch 6/15\n",
      "945/945 [==============================] - 3s 4ms/step - loss: 0.0857 - accuracy: 0.9810 - val_loss: 0.1023 - val_accuracy: 0.9774\n",
      "Epoch 7/15\n",
      "945/945 [==============================] - 3s 4ms/step - loss: 0.0669 - accuracy: 0.9840 - val_loss: 0.1017 - val_accuracy: 0.9795\n",
      "Epoch 8/15\n",
      "945/945 [==============================] - 4s 4ms/step - loss: 0.0735 - accuracy: 0.9841 - val_loss: 0.0586 - val_accuracy: 0.9830\n",
      "Epoch 9/15\n",
      "945/945 [==============================] - 3s 4ms/step - loss: 0.0533 - accuracy: 0.9863 - val_loss: 0.0721 - val_accuracy: 0.9848\n",
      "Epoch 10/15\n",
      "945/945 [==============================] - 3s 4ms/step - loss: 0.0549 - accuracy: 0.9876 - val_loss: 0.1289 - val_accuracy: 0.9774\n",
      "Epoch 11/15\n",
      "945/945 [==============================] - 4s 4ms/step - loss: 0.0536 - accuracy: 0.9886 - val_loss: 0.0738 - val_accuracy: 0.9863\n",
      "Epoch 12/15\n",
      "945/945 [==============================] - 4s 4ms/step - loss: 0.0383 - accuracy: 0.9917 - val_loss: 0.0982 - val_accuracy: 0.9848\n",
      "Epoch 13/15\n",
      "945/945 [==============================] - 4s 4ms/step - loss: 0.0430 - accuracy: 0.9901 - val_loss: 0.1027 - val_accuracy: 0.9827\n",
      "Epoch 14/15\n",
      "945/945 [==============================] - 4s 4ms/step - loss: 0.0315 - accuracy: 0.9917 - val_loss: 0.1016 - val_accuracy: 0.9824\n"
     ]
    }
   ],
   "source": [
    "#training the model\n",
    "hist = model.fit(x_train,y_train,epochs=15,validation_split=0.1,callbacks=[callback])"
   ]
  },
  {
   "cell_type": "code",
   "execution_count": 21,
   "id": "excess-enterprise",
   "metadata": {
    "execution": {
     "iopub.execute_input": "2021-05-22T10:10:26.365746Z",
     "iopub.status.busy": "2021-05-22T10:10:26.364706Z",
     "iopub.status.idle": "2021-05-22T10:10:27.356913Z",
     "shell.execute_reply": "2021-05-22T10:10:27.356145Z",
     "shell.execute_reply.started": "2021-05-22T09:12:18.887151Z"
    },
    "papermill": {
     "duration": 1.255936,
     "end_time": "2021-05-22T10:10:27.357040",
     "exception": false,
     "start_time": "2021-05-22T10:10:26.101104",
     "status": "completed"
    },
    "tags": []
   },
   "outputs": [
    {
     "name": "stdout",
     "output_type": "stream",
     "text": [
      "263/263 [==============================] - 1s 3ms/step - loss: 0.0961 - accuracy: 0.9831\n"
     ]
    },
    {
     "data": {
      "text/plain": [
       "[0.09608144313097, 0.9830952286720276]"
      ]
     },
     "execution_count": 21,
     "metadata": {},
     "output_type": "execute_result"
    }
   ],
   "source": [
    "#testing the model\n",
    "model.evaluate(x_test,y_test)"
   ]
  },
  {
   "cell_type": "markdown",
   "id": "saved-drinking",
   "metadata": {
    "papermill": {
     "duration": 0.263763,
     "end_time": "2021-05-22T10:10:27.884530",
     "exception": false,
     "start_time": "2021-05-22T10:10:27.620767",
     "status": "completed"
    },
    "tags": []
   },
   "source": [
    "> Some plots"
   ]
  },
  {
   "cell_type": "code",
   "execution_count": 22,
   "id": "complicated-patent",
   "metadata": {
    "execution": {
     "iopub.execute_input": "2021-05-22T10:10:28.425198Z",
     "iopub.status.busy": "2021-05-22T10:10:28.424361Z",
     "iopub.status.idle": "2021-05-22T10:10:28.553243Z",
     "shell.execute_reply": "2021-05-22T10:10:28.552808Z",
     "shell.execute_reply.started": "2021-05-22T09:12:43.322706Z"
    },
    "papermill": {
     "duration": 0.405148,
     "end_time": "2021-05-22T10:10:28.553356",
     "exception": false,
     "start_time": "2021-05-22T10:10:28.148208",
     "status": "completed"
    },
    "tags": []
   },
   "outputs": [
    {
     "data": {
      "image/png": "[encoded data removed]",
      "text/plain": [
       "<Figure size 432x288 with 1 Axes>"
      ]
     },
     "metadata": {
      "needs_background": "light"
     },
     "output_type": "display_data"
    }
   ],
   "source": [
    "#visualize the models accuray\n",
    "plt.plot(hist.history['accuracy'])\n",
    "plt.plot(hist.history['val_accuracy'])\n",
    "plt.title(\"Model Accuracy\")\n",
    "plt.ylabel(\"Accuracy\")\n",
    "plt.xlabel(\"Epoch\")\n",
    "plt.legend(['Train','Val'],loc='upper left')\n",
    "plt.show()"
   ]
  },
  {
   "cell_type": "code",
   "execution_count": 23,
   "id": "driving-hardware",
   "metadata": {
    "execution": {
     "iopub.execute_input": "2021-05-22T10:10:29.101182Z",
     "iopub.status.busy": "2021-05-22T10:10:29.100379Z",
     "iopub.status.idle": "2021-05-22T10:10:29.217394Z",
     "shell.execute_reply": "2021-05-22T10:10:29.217002Z",
     "shell.execute_reply.started": "2021-05-22T09:13:00.312259Z"
    },
    "papermill": {
     "duration": 0.398147,
     "end_time": "2021-05-22T10:10:29.217523",
     "exception": false,
     "start_time": "2021-05-22T10:10:28.819376",
     "status": "completed"
    },
    "tags": []
   },
   "outputs": [
    {
     "data": {
      "image/png": "[encoded data removed]",
      "text/plain": [
       "<Figure size 432x288 with 1 Axes>"
      ]
     },
     "metadata": {
      "needs_background": "light"
     },
     "output_type": "display_data"
    }
   ],
   "source": [
    "#visualize models loss\n",
    "plt.plot(hist.history['loss'])\n",
    "plt.plot(hist.history['val_loss'])\n",
    "plt.title(\"Model Lossy\")\n",
    "plt.ylabel(\"Loss\")\n",
    "plt.xlabel(\"Epoch\")\n",
    "plt.legend(['Train','Val'],loc='upper right')\n",
    "plt.show()"
   ]
  },
  {
   "cell_type": "code",
   "execution_count": 24,
   "id": "small-convert",
   "metadata": {
    "execution": {
     "iopub.execute_input": "2021-05-22T10:10:29.756005Z",
     "iopub.status.busy": "2021-05-22T10:10:29.755015Z",
     "iopub.status.idle": "2021-05-22T10:10:30.302068Z",
     "shell.execute_reply": "2021-05-22T10:10:30.303129Z",
     "shell.execute_reply.started": "2021-05-22T09:16:04.164912Z"
    },
    "papermill": {
     "duration": 0.81983,
     "end_time": "2021-05-22T10:10:30.303336",
     "exception": false,
     "start_time": "2021-05-22T10:10:29.483506",
     "status": "completed"
    },
    "tags": []
   },
   "outputs": [
    {
     "name": "stdout",
     "output_type": "stream",
     "text": [
      "              precision    recall  f1-score   support\n",
      "\n",
      "           0       0.99      0.99      0.99       816\n",
      "           1       0.99      0.99      0.99       912\n",
      "           2       0.98      0.97      0.98       852\n",
      "           3       0.97      1.00      0.98       909\n",
      "           4       0.99      0.98      0.99       840\n",
      "           5       0.98      0.97      0.98       711\n",
      "           6       0.99      0.98      0.99       795\n",
      "           7       0.98      0.98      0.98       899\n",
      "           8       0.99      0.98      0.98       841\n",
      "           9       0.97      0.99      0.98       825\n",
      "\n",
      "    accuracy                           0.98      8400\n",
      "   macro avg       0.98      0.98      0.98      8400\n",
      "weighted avg       0.98      0.98      0.98      8400\n",
      "\n"
     ]
    }
   ],
   "source": [
    "#classification report \n",
    "from sklearn.metrics import classification_report,confusion_matrix\n",
    "\n",
    "test_pred = model.predict(x_test)\n",
    "test_pred = [np.argmax(i) for i in test_pred]\n",
    "\n",
    "print(classification_report(test_pred,y_test))"
   ]
  },
  {
   "cell_type": "code",
   "execution_count": 25,
   "id": "vocational-millennium",
   "metadata": {
    "execution": {
     "iopub.execute_input": "2021-05-22T10:10:30.845295Z",
     "iopub.status.busy": "2021-05-22T10:10:30.844562Z",
     "iopub.status.idle": "2021-05-22T10:10:30.860155Z",
     "shell.execute_reply": "2021-05-22T10:10:30.860577Z",
     "shell.execute_reply.started": "2021-05-22T09:16:36.663367Z"
    },
    "papermill": {
     "duration": 0.28922,
     "end_time": "2021-05-22T10:10:30.860717",
     "exception": false,
     "start_time": "2021-05-22T10:10:30.571497",
     "status": "completed"
    },
    "tags": []
   },
   "outputs": [
    {
     "name": "stdout",
     "output_type": "stream",
     "text": [
      "[[808   0   0   0   2   1   1   1   0   3]\n",
      " [  0 904   2   0   1   0   0   3   2   0]\n",
      " [  1   1 828  11   0   1   0   9   1   0]\n",
      " [  0   1   0 905   0   2   0   1   0   0]\n",
      " [  1   0   3   0 827   0   1   1   2   5]\n",
      " [  0   0   1  11   0 690   2   0   1   6]\n",
      " [  3   1   1   0   4   5 780   0   1   0]\n",
      " [  0   2  11   2   1   0   0 877   1   5]\n",
      " [  1   0   0   6   1   2   1   0 825   5]\n",
      " [  2   0   0   2   3   1   0   1   2 814]]\n"
     ]
    }
   ],
   "source": [
    "#confusion matrix\n",
    "print(confusion_matrix(test_pred,y_test))"
   ]
  },
  {
   "cell_type": "code",
   "execution_count": 26,
   "id": "elegant-upset",
   "metadata": {
    "execution": {
     "iopub.execute_input": "2021-05-22T10:10:31.403867Z",
     "iopub.status.busy": "2021-05-22T10:10:31.403132Z",
     "iopub.status.idle": "2021-05-22T10:10:31.406335Z",
     "shell.execute_reply": "2021-05-22T10:10:31.406750Z",
     "shell.execute_reply.started": "2021-05-22T09:18:52.146054Z"
    },
    "papermill": {
     "duration": 0.279987,
     "end_time": "2021-05-22T10:10:31.406886",
     "exception": false,
     "start_time": "2021-05-22T10:10:31.126899",
     "status": "completed"
    },
    "tags": []
   },
   "outputs": [
    {
     "data": {
      "text/plain": [
       "[8, 1, 9, 9, 8, 6, 2, 2, 7, 1]"
      ]
     },
     "execution_count": 26,
     "metadata": {},
     "output_type": "execute_result"
    }
   ],
   "source": [
    "test_pred[:10]"
   ]
  },
  {
   "cell_type": "code",
   "execution_count": 27,
   "id": "revolutionary-nature",
   "metadata": {
    "execution": {
     "iopub.execute_input": "2021-05-22T10:10:31.981535Z",
     "iopub.status.busy": "2021-05-22T10:10:31.980990Z",
     "iopub.status.idle": "2021-05-22T10:10:31.984982Z",
     "shell.execute_reply": "2021-05-22T10:10:31.984579Z",
     "shell.execute_reply.started": "2021-05-22T09:20:19.113689Z"
    },
    "papermill": {
     "duration": 0.312096,
     "end_time": "2021-05-22T10:10:31.985090",
     "exception": false,
     "start_time": "2021-05-22T10:10:31.672994",
     "status": "completed"
    },
    "tags": []
   },
   "outputs": [],
   "source": [
    "y_test = np.array(y_test,'int32')"
   ]
  },
  {
   "cell_type": "code",
   "execution_count": 28,
   "id": "thorough-collection",
   "metadata": {
    "execution": {
     "iopub.execute_input": "2021-05-22T10:10:32.548894Z",
     "iopub.status.busy": "2021-05-22T10:10:32.536577Z",
     "iopub.status.idle": "2021-05-22T10:10:33.755190Z",
     "shell.execute_reply": "2021-05-22T10:10:33.754774Z",
     "shell.execute_reply.started": "2021-05-22T09:20:19.895467Z"
    },
    "papermill": {
     "duration": 1.503488,
     "end_time": "2021-05-22T10:10:33.755311",
     "exception": false,
     "start_time": "2021-05-22T10:10:32.251823",
     "status": "completed"
    },
    "tags": []
   },
   "outputs": [
    {
     "data": {
      "image/png": "[encoded data removed]",
      "text/plain": [
       "<Figure size 1080x720 with 25 Axes>"
      ]
     },
     "metadata": {},
     "output_type": "display_data"
    }
   ],
   "source": [
    "plt.figure(figsize=(15,10))\n",
    "for i in range(25):\n",
    "    plt.subplot(5,5,i+1)\n",
    "    plt.xticks([])\n",
    "    plt.yticks([])\n",
    "    plt.imshow(x_test[i])\n",
    "    plt.xlabel(\"Actual: {}\".format(y_test[i]))\n",
    "    plt.ylabel(\"Predicted: {}\".format(test_pred[i]))"
   ]
  },
  {
   "cell_type": "markdown",
   "id": "sealed-junction",
   "metadata": {
    "papermill": {
     "duration": 0.26684,
     "end_time": "2021-05-22T10:10:34.291228",
     "exception": false,
     "start_time": "2021-05-22T10:10:34.024388",
     "status": "completed"
    },
    "tags": []
   },
   "source": [
    "### Final test data"
   ]
  },
  {
   "cell_type": "code",
   "execution_count": 29,
   "id": "hollywood-memory",
   "metadata": {
    "execution": {
     "iopub.execute_input": "2021-05-22T10:10:34.831757Z",
     "iopub.status.busy": "2021-05-22T10:10:34.830864Z",
     "iopub.status.idle": "2021-05-22T10:10:36.384872Z",
     "shell.execute_reply": "2021-05-22T10:10:36.385647Z",
     "shell.execute_reply.started": "2021-05-22T09:22:27.885062Z"
    },
    "papermill": {
     "duration": 1.827192,
     "end_time": "2021-05-22T10:10:36.385858",
     "exception": false,
     "start_time": "2021-05-22T10:10:34.558666",
     "status": "completed"
    },
    "tags": []
   },
   "outputs": [],
   "source": [
    "final_pred = model.predict(df_test)"
   ]
  },
  {
   "cell_type": "code",
   "execution_count": 30,
   "id": "identified-aaron",
   "metadata": {
    "execution": {
     "iopub.execute_input": "2021-05-22T10:10:36.958654Z",
     "iopub.status.busy": "2021-05-22T10:10:36.957317Z",
     "iopub.status.idle": "2021-05-22T10:10:37.033470Z",
     "shell.execute_reply": "2021-05-22T10:10:37.032989Z",
     "shell.execute_reply.started": "2021-05-22T09:22:32.818169Z"
    },
    "papermill": {
     "duration": 0.358113,
     "end_time": "2021-05-22T10:10:37.033615",
     "exception": false,
     "start_time": "2021-05-22T10:10:36.675502",
     "status": "completed"
    },
    "tags": []
   },
   "outputs": [],
   "source": [
    "final_pred = [np.argmax(i) for i in final_pred]"
   ]
  },
  {
   "cell_type": "code",
   "execution_count": 31,
   "id": "hollow-approach",
   "metadata": {
    "execution": {
     "iopub.execute_input": "2021-05-22T10:10:37.574568Z",
     "iopub.status.busy": "2021-05-22T10:10:37.573969Z",
     "iopub.status.idle": "2021-05-22T10:10:37.579922Z",
     "shell.execute_reply": "2021-05-22T10:10:37.579523Z",
     "shell.execute_reply.started": "2021-05-22T09:22:43.604452Z"
    },
    "papermill": {
     "duration": 0.27736,
     "end_time": "2021-05-22T10:10:37.580032",
     "exception": false,
     "start_time": "2021-05-22T10:10:37.302672",
     "status": "completed"
    },
    "tags": []
   },
   "outputs": [
    {
     "data": {
      "text/plain": [
       "[2, 0, 9, 9, 3, 7, 0, 3, 0, 3]"
      ]
     },
     "execution_count": 31,
     "metadata": {},
     "output_type": "execute_result"
    }
   ],
   "source": [
    "final_pred[:10]"
   ]
  },
  {
   "cell_type": "code",
   "execution_count": 32,
   "id": "accredited-tractor",
   "metadata": {
    "execution": {
     "iopub.execute_input": "2021-05-22T10:10:38.126615Z",
     "iopub.status.busy": "2021-05-22T10:10:38.126048Z",
     "iopub.status.idle": "2021-05-22T10:10:38.146929Z",
     "shell.execute_reply": "2021-05-22T10:10:38.146216Z",
     "shell.execute_reply.started": "2021-05-22T09:23:51.906379Z"
    },
    "papermill": {
     "duration": 0.297882,
     "end_time": "2021-05-22T10:10:38.147040",
     "exception": false,
     "start_time": "2021-05-22T10:10:37.849158",
     "status": "completed"
    },
    "tags": []
   },
   "outputs": [
    {
     "data": {
      "text/html": [
       "<div>\n",
       "<style scoped>\n",
       "    .dataframe tbody tr th:only-of-type {\n",
       "        vertical-align: middle;\n",
       "    }\n",
       "\n",
       "    .dataframe tbody tr th {\n",
       "        vertical-align: top;\n",
       "    }\n",
       "\n",
       "    .dataframe thead th {\n",
       "        text-align: right;\n",
       "    }\n",
       "</style>\n",
       "<table border=\"1\" class=\"dataframe\">\n",
       "  <thead>\n",
       "    <tr style=\"text-align: right;\">\n",
       "      <th></th>\n",
       "      <th>ImageId</th>\n",
       "      <th>Label</th>\n",
       "    </tr>\n",
       "  </thead>\n",
       "  <tbody>\n",
       "    <tr>\n",
       "      <th>0</th>\n",
       "      <td>1</td>\n",
       "      <td>0</td>\n",
       "    </tr>\n",
       "    <tr>\n",
       "      <th>1</th>\n",
       "      <td>2</td>\n",
       "      <td>0</td>\n",
       "    </tr>\n",
       "    <tr>\n",
       "      <th>2</th>\n",
       "      <td>3</td>\n",
       "      <td>0</td>\n",
       "    </tr>\n",
       "    <tr>\n",
       "      <th>3</th>\n",
       "      <td>4</td>\n",
       "      <td>0</td>\n",
       "    </tr>\n",
       "    <tr>\n",
       "      <th>4</th>\n",
       "      <td>5</td>\n",
       "      <td>0</td>\n",
       "    </tr>\n",
       "  </tbody>\n",
       "</table>\n",
       "</div>"
      ],
      "text/plain": [
       "   ImageId  Label\n",
       "0        1      0\n",
       "1        2      0\n",
       "2        3      0\n",
       "3        4      0\n",
       "4        5      0"
      ]
     },
     "execution_count": 32,
     "metadata": {},
     "output_type": "execute_result"
    }
   ],
   "source": [
    "submission_format = pd.read_csv(\"/kaggle/input/digit-recognizer/sample_submission.csv\")\n",
    "submission_format.head()"
   ]
  },
  {
   "cell_type": "code",
   "execution_count": 33,
   "id": "economic-concentration",
   "metadata": {
    "execution": {
     "iopub.execute_input": "2021-05-22T10:10:38.686763Z",
     "iopub.status.busy": "2021-05-22T10:10:38.686026Z",
     "iopub.status.idle": "2021-05-22T10:10:38.689345Z",
     "shell.execute_reply": "2021-05-22T10:10:38.689748Z",
     "shell.execute_reply.started": "2021-05-22T09:25:11.283537Z"
    },
    "papermill": {
     "duration": 0.275102,
     "end_time": "2021-05-22T10:10:38.689880",
     "exception": false,
     "start_time": "2021-05-22T10:10:38.414778",
     "status": "completed"
    },
    "tags": []
   },
   "outputs": [
    {
     "data": {
      "text/plain": [
       "28000"
      ]
     },
     "execution_count": 33,
     "metadata": {},
     "output_type": "execute_result"
    }
   ],
   "source": [
    "len(submission_format.ImageId)"
   ]
  },
  {
   "cell_type": "code",
   "execution_count": 34,
   "id": "disabled-accounting",
   "metadata": {
    "execution": {
     "iopub.execute_input": "2021-05-22T10:10:39.229188Z",
     "iopub.status.busy": "2021-05-22T10:10:39.228397Z",
     "iopub.status.idle": "2021-05-22T10:10:39.234723Z",
     "shell.execute_reply": "2021-05-22T10:10:39.234293Z",
     "shell.execute_reply.started": "2021-05-22T09:24:52.844947Z"
    },
    "papermill": {
     "duration": 0.277729,
     "end_time": "2021-05-22T10:10:39.234833",
     "exception": false,
     "start_time": "2021-05-22T10:10:38.957104",
     "status": "completed"
    },
    "tags": []
   },
   "outputs": [
    {
     "data": {
      "text/plain": [
       "28000"
      ]
     },
     "execution_count": 34,
     "metadata": {},
     "output_type": "execute_result"
    }
   ],
   "source": [
    "submission_format.ImageId.nunique()"
   ]
  },
  {
   "cell_type": "code",
   "execution_count": 35,
   "id": "blessed-budget",
   "metadata": {
    "execution": {
     "iopub.execute_input": "2021-05-22T10:10:39.796467Z",
     "iopub.status.busy": "2021-05-22T10:10:39.795027Z",
     "iopub.status.idle": "2021-05-22T10:10:39.797252Z",
     "shell.execute_reply": "2021-05-22T10:10:39.797734Z",
     "shell.execute_reply.started": "2021-05-22T09:36:25.838873Z"
    },
    "papermill": {
     "duration": 0.294177,
     "end_time": "2021-05-22T10:10:39.797864",
     "exception": false,
     "start_time": "2021-05-22T10:10:39.503687",
     "status": "completed"
    },
    "tags": []
   },
   "outputs": [],
   "source": [
    "final_pred = pd.DataFrame(final_pred)\n",
    "final_pred.columns =['Label']"
   ]
  },
  {
   "cell_type": "code",
   "execution_count": 36,
   "id": "adolescent-zimbabwe",
   "metadata": {
    "execution": {
     "iopub.execute_input": "2021-05-22T10:10:40.339823Z",
     "iopub.status.busy": "2021-05-22T10:10:40.339151Z",
     "iopub.status.idle": "2021-05-22T10:10:40.342844Z",
     "shell.execute_reply": "2021-05-22T10:10:40.343195Z",
     "shell.execute_reply.started": "2021-05-22T09:42:44.733715Z"
    },
    "papermill": {
     "duration": 0.277773,
     "end_time": "2021-05-22T10:10:40.343326",
     "exception": false,
     "start_time": "2021-05-22T10:10:40.065553",
     "status": "completed"
    },
    "tags": []
   },
   "outputs": [],
   "source": [
    "final = pd.concat([pd.Series(range(1,28001),name=\"ImageId\"),final_pred],axis=1)"
   ]
  },
  {
   "cell_type": "code",
   "execution_count": 37,
   "id": "pressed-encounter",
   "metadata": {
    "execution": {
     "iopub.execute_input": "2021-05-22T10:10:40.887768Z",
     "iopub.status.busy": "2021-05-22T10:10:40.887176Z",
     "iopub.status.idle": "2021-05-22T10:10:40.892265Z",
     "shell.execute_reply": "2021-05-22T10:10:40.892643Z",
     "shell.execute_reply.started": "2021-05-22T09:42:52.761609Z"
    },
    "papermill": {
     "duration": 0.281549,
     "end_time": "2021-05-22T10:10:40.892777",
     "exception": false,
     "start_time": "2021-05-22T10:10:40.611228",
     "status": "completed"
    },
    "tags": []
   },
   "outputs": [
    {
     "data": {
      "text/html": [
       "<div>\n",
       "<style scoped>\n",
       "    .dataframe tbody tr th:only-of-type {\n",
       "        vertical-align: middle;\n",
       "    }\n",
       "\n",
       "    .dataframe tbody tr th {\n",
       "        vertical-align: top;\n",
       "    }\n",
       "\n",
       "    .dataframe thead th {\n",
       "        text-align: right;\n",
       "    }\n",
       "</style>\n",
       "<table border=\"1\" class=\"dataframe\">\n",
       "  <thead>\n",
       "    <tr style=\"text-align: right;\">\n",
       "      <th></th>\n",
       "      <th>ImageId</th>\n",
       "      <th>Label</th>\n",
       "    </tr>\n",
       "  </thead>\n",
       "  <tbody>\n",
       "    <tr>\n",
       "      <th>0</th>\n",
       "      <td>1</td>\n",
       "      <td>2</td>\n",
       "    </tr>\n",
       "    <tr>\n",
       "      <th>1</th>\n",
       "      <td>2</td>\n",
       "      <td>0</td>\n",
       "    </tr>\n",
       "    <tr>\n",
       "      <th>2</th>\n",
       "      <td>3</td>\n",
       "      <td>9</td>\n",
       "    </tr>\n",
       "    <tr>\n",
       "      <th>3</th>\n",
       "      <td>4</td>\n",
       "      <td>9</td>\n",
       "    </tr>\n",
       "    <tr>\n",
       "      <th>4</th>\n",
       "      <td>5</td>\n",
       "      <td>3</td>\n",
       "    </tr>\n",
       "  </tbody>\n",
       "</table>\n",
       "</div>"
      ],
      "text/plain": [
       "   ImageId  Label\n",
       "0        1      2\n",
       "1        2      0\n",
       "2        3      9\n",
       "3        4      9\n",
       "4        5      3"
      ]
     },
     "execution_count": 37,
     "metadata": {},
     "output_type": "execute_result"
    }
   ],
   "source": [
    "final.head()"
   ]
  },
  {
   "cell_type": "code",
   "execution_count": null,
   "id": "thirty-lesbian",
   "metadata": {
    "papermill": {
     "duration": 0.267523,
     "end_time": "2021-05-22T10:10:41.430077",
     "exception": false,
     "start_time": "2021-05-22T10:10:41.162554",
     "status": "completed"
    },
    "tags": []
   },
   "outputs": [],
   "source": []
  }
 ],
 "metadata": {
  "kernelspec": {
   "display_name": "Python 3",
   "language": "python",
   "name": "python3"
  },
  "language_info": {
   "codemirror_mode": {
    "name": "ipython",
    "version": 3
   },
   "file_extension": ".py",
   "mimetype": "text/x-python",
   "name": "python",
   "nbconvert_exporter": "python",
   "pygments_lexer": "ipython3",
   "version": "3.7.10"
  },
  "papermill": {
   "default_parameters": {},
   "duration": 95.770515,
   "end_time": "2021-05-22T10:10:44.431392",
   "environment_variables": {},
   "exception": null,
   "input_path": "__notebook__.ipynb",
   "output_path": "__notebook__.ipynb",
   "parameters": {},
   "start_time": "2021-05-22T10:09:08.660877",
   "version": "2.3.3"
  }
 },
 "nbformat": 4,
 "nbformat_minor": 5
}
